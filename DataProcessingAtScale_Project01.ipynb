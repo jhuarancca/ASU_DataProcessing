{
  "nbformat": 4,
  "nbformat_minor": 0,
  "metadata": {
    "colab": {
      "provenance": [],
      "authorship_tag": "ABX9TyNZpn84j6YST1iub09f0ZDR",
      "include_colab_link": true
    },
    "kernelspec": {
      "name": "python3",
      "display_name": "Python 3"
    },
    "language_info": {
      "name": "python"
    }
  },
  "cells": [
    {
      "cell_type": "markdown",
      "metadata": {
        "id": "view-in-github",
        "colab_type": "text"
      },
      "source": [
        "<a href=\"https://colab.research.google.com/github/jhuarancca/ASU_DataProcessing/blob/main/DataProcessingAtScale_Project01.ipynb\" target=\"_parent\"><img src=\"https://colab.research.google.com/assets/colab-badge.svg\" alt=\"Open In Colab\"/></a>"
      ]
    },
    {
      "cell_type": "code",
      "execution_count": null,
      "metadata": {
        "id": "nZhsq6j7I7ZN"
      },
      "outputs": [],
      "source": [
        "from unqlite import UnQLite\n",
        "\n",
        "db = UnQLite('sample.db')\n",
        "data = db.collection('data')\n"
      ]
    },
    {
      "cell_type": "code",
      "source": [
        "#print(data.fetch(0))\n",
        "#print(data.fetch(1))\n",
        "#print(data.fetch(2))\n",
        "\n",
        "print(len(data))\n",
        "for i in range(0,len(data)):\n",
        "      print(data[i])\n",
        "        \n",
        "#data.filter(lambda obj: obj['state'].startswith('AZ'))"
      ],
      "metadata": {
        "id": "TnRC30WTzn06"
      },
      "execution_count": null,
      "outputs": []
    },
    {
      "cell_type": "code",
      "source": [
        "import math\n",
        "\n",
        "def distanceFunction(latitude2,longitude2,latitude1,longitude1):\n",
        "    #Distance in miles\n",
        "    distance=0\n",
        "    varR=3959 #miles\n",
        "    latitude1R=math.radians(latitude1 / math.pi)\n",
        "    latitude2R=math.radians(latitude2 / math.pi)\n",
        "    \n",
        "    varLatitude=math.radians((latitude2 -latitude1) / math.pi)\n",
        "    varLongitude=math.radians((longitude2 -longitude1) / math.pi)\n",
        "    \n",
        "    varA=(math.sin(varLatitude/2)*math.sin(varLatitude/2))+(math.cos(latitude1R)*math.cos(latitude2R)*math.sin(varLongitude/2)*math.sin(varLongitude/2))\n",
        "    varC=2*(math.atan2(math.sqrt(varA), math.sqrt(1-varA)))\n",
        "    \n",
        "    varD=varR*varC\n",
        "    \n",
        "    print(latitude1R)\n",
        "    print(latitude2R)\n",
        "    \n",
        "    print(varLatitude)\n",
        "    print(varLongitude)\n",
        "    \n",
        "    print(varA)\n",
        "    print(varC)\n",
        "    print(varD)\n",
        "#Peru \t\t-9.189967 \t-75.015152\n",
        "#Nashville\t36.162663\t-86.781601\n",
        "\n",
        "#36.162663\t-86.781601 -9.189967 \t-75.015152\n",
        "\n",
        "distanceFunction(36.16,-86.78,-9.18,-75.01)   "
      ],
      "metadata": {
        "id": "ByNEnhr6zn8T"
      },
      "execution_count": null,
      "outputs": []
    }
  ]
}