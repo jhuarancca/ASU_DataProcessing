{
  "cells": [
    {
      "cell_type": "markdown",
      "metadata": {
        "id": "view-in-github",
        "colab_type": "text"
      },
      "source": [
        "<a href=\"https://colab.research.google.com/github/jhuarancca/ASU_DataProcessing/blob/main/Project1_NoSQL.ipynb\" target=\"_parent\"><img src=\"https://colab.research.google.com/assets/colab-badge.svg\" alt=\"Open In Colab\"/></a>"
      ]
    },
    {
      "cell_type": "code",
      "execution_count": null,
      "metadata": {
        "id": "_w9E1_zkbHxh",
        "outputId": "417dc761-356b-4cb2-9676-e713bd715cee"
      },
      "outputs": [
        {
          "data": {
            "text/plain": [
              "{'business_id': 'MPyxaNVuWlAQqJ0iKV5rQw',\n",
              " 'type': 'business',\n",
              " 'state': 'AZ',\n",
              " 'latitude': 33.3482589,\n",
              " 'name': \"VinciTorio's Restaurant\",\n",
              " 'full_address': '1835 E Elliot Rd, Ste C109, Tempe, AZ 85284',\n",
              " 'categories': ['Restaurants', 'Buffets', 'Italian'],\n",
              " 'open': True,\n",
              " 'stars': 4,\n",
              " 'city': 'Tempe',\n",
              " 'neighborhoods': [],\n",
              " '__id': 0,\n",
              " 'review_count': 122,\n",
              " 'longitude': -111.9088346}"
            ]
          },
          "execution_count": 30,
          "metadata": {},
          "output_type": "execute_result"
        }
      ],
      "source": [
        "from unqlite import UnQLite\n",
        "\n",
        "db = UnQLite('sample.db')\n",
        "data = db.collection('data')\n",
        "\n",
        "data.fetch(0)"
      ]
    },
    {
      "cell_type": "code",
      "execution_count": null,
      "metadata": {
        "id": "PpKfL2RpbHxp"
      },
      "outputs": [],
      "source": [
        "import math\n",
        "\n",
        "def distanceFunction(latitude2,longitude2,latitude1,longitude1):\n",
        "    #Distance in miles\n",
        "    distance=0\n",
        "    varR=3959 #miles\n",
        "    latitude1R=math.radians(latitude1 / math.pi)\n",
        "    latitude2R=math.radians(latitude2 / math.pi)\n",
        "    \n",
        "    varLatitude=math.radians((latitude2 -latitude1) / math.pi)\n",
        "    varLongitude=math.radians((longitude2 -longitude1) / math.pi)\n",
        "    \n",
        "    varA=(math.sin(varLatitude/2)*math.sin(varLatitude/2))+(math.cos(latitude1R)*math.cos(latitude2R)*math.sin(varLongitude/2)*math.sin(varLongitude/2))\n",
        "    varC=2*(math.atan2(math.sqrt(varA), math.sqrt(1-varA)))\n",
        "    \n",
        "    varD=varR*varC\n",
        "    \n",
        "    return varD\n",
        "#Peru \t\t-9.189967 \t-75.015152\n",
        "#Nashville\t36.162663\t-86.781601\n",
        "\n",
        "#36.162663\t-86.781601 -9.189967 \t-75.015152\n",
        "\n",
        "distanceFunction(36.16,-86.78,-9.18,-75.01)   \n",
        "\n",
        "def writeOutputToTxt(filename, output):\n",
        "    file = open(filename, 'w')\n",
        "    for item in output:\n",
        "        file.write('$'.join(str(s) for s in item))\n",
        "        file.write('\\n')\n",
        "    file.close()"
      ]
    },
    {
      "cell_type": "code",
      "execution_count": null,
      "metadata": {
        "id": "d9kNMhmebHxr",
        "outputId": "cf1210fa-0603-47d7-c9cf-bff1b47f1d67"
      },
      "outputs": [
        {
          "name": "stdout",
          "output_type": "stream",
          "text": [
            "Defined\n"
          ]
        }
      ],
      "source": [
        "# Graded Cell, PartID: o1flK\n",
        "def FindBusinessBasedOnCity(cityToSearch,saveLocation1,collection):\n",
        "    print (\"FindBusinessBasedOnCity function started \")\n",
        "    businessesFiltered = []\n",
        "    businesses = collection.all()\n",
        "    \n",
        "    for business in businesses:\n",
        "        if business['city'] == cityToSearch:\n",
        "            business_name = business['name']\n",
        "            business_addr = business['full_address']\n",
        "            business_city = business['city']\n",
        "            business_stat = business['state']\n",
        "            businessTemp = [business_name, business_addr, business_city, business_stat]\n",
        "            businessesFiltered.append(businessTemp)\n",
        "            \n",
        "    writeOutputToTxt(saveLocation1, businessesFiltered)\n",
        "    print (\"FindBusinessBasedOnCity function end : \"+saveLocation1)\n",
        "    \n",
        "def FindBusinessBasedOnLocation(categoriesToSearch, myLocation, maxDistance, saveLocation2, collection):\n",
        "    print (\"FindBusinessBasedOnLocation function begin\")\n",
        "    businessesFiltered = []\n",
        "    lat1, lon1 = myLocation\n",
        "    businesses = collection.all()\n",
        "    for business in businesses:\n",
        "        if len(set(categoriesToSearch) - set(business['categories'])) < len(categoriesToSearch):\n",
        "            lat2 = business['latitude']\n",
        "            lon2 = business['longitude']\n",
        "            distance = distanceFunction(lat2, lon2, lat1, lon1)\n",
        "            if distance <= maxDistance:\n",
        "                businessesFiltered.append([business['name']])\n",
        "    writeOutputToTxt(saveLocation2, businessesFiltered)\n",
        "    print (\"FindBusinessBasedOnLocation function end : \"+saveLocation2)\n",
        "\n",
        "\n",
        "print('Defined')"
      ]
    },
    {
      "cell_type": "code",
      "execution_count": null,
      "metadata": {
        "id": "SgkSdKDlbHxt",
        "outputId": "bbf6f97c-8416-45e9-bfbf-3cd9b0caf8de"
      },
      "outputs": [
        {
          "name": "stdout",
          "output_type": "stream",
          "text": [
            "Test FindBusinessBasedOnCity function started!\n",
            "FindBusinessBasedOnCity function started \n",
            "FindBusinessBasedOnCity function end : output_city.txt\n",
            "Correct! You FindBusinessByCity function passes these test cases. This does not cover all possible test edge cases, however, so make sure that your function covers them before submitting!\n"
          ]
        }
      ],
      "source": [
        "print (\"Test FindBusinessBasedOnCity function started!\")\n",
        "  \n",
        "\n",
        "true_results = [\"VinciTorio's Restaurant$1835 E Elliot Rd, Ste C109, Tempe, AZ 85284$Tempe$AZ\", \"P.croissants$7520 S Rural Rd, Tempe, AZ 85283$Tempe$AZ\", \"Salt Creek Home$1725 W Ruby Dr, Tempe, AZ 85284$Tempe$AZ\"]\n",
        "\n",
        "try:\n",
        "    FindBusinessBasedOnCity('Tempe', 'output_city.txt', data)\n",
        "except NameError as e:\n",
        "    print ('The FindBusinessBasedOnCity function is not defined! You must run the cell containing the function before running this evaluation cell.')\n",
        "except TypeError as e:\n",
        "    print (\"The FindBusinessBasedOnCity function is supposed to accept three arguments. Yours does not!\")\n",
        "    \n",
        "try:\n",
        "    opf = open('output_city.txt', 'r')\n",
        "except FileNotFoundError as e:\n",
        "    print (\"The FindBusinessBasedOnCity function does not write data to the correct location.\")\n",
        "    \n",
        "lines = opf.readlines()\n",
        "if len(lines) != 3:\n",
        "    print (\"The FindBusinessBasedOnCity function does not find the correct number of results, should be 3.\")\n",
        "    \n",
        "lines = [line.strip() for line in lines]\n",
        "if sorted(lines) == sorted(true_results):\n",
        "    print (\"Correct! You FindBusinessByCity function passes these test cases. This does not cover all possible test edge cases, however, so make sure that your function covers them before submitting!\")"
      ]
    },
    {
      "cell_type": "code",
      "execution_count": null,
      "metadata": {
        "id": "3b3O0_rtbHxv",
        "outputId": "8a59ff34-d33c-4a96-c44e-b8639ec347f3"
      },
      "outputs": [
        {
          "name": "stdout",
          "output_type": "stream",
          "text": [
            "FindBusinessBasedOnLocation function begin\n",
            "FindBusinessBasedOnLocation function end : output_loc.txt\n",
            "Correct! Your FindBusinessBasedOnLocation function passes these test cases. This does not cover all possible edge cases, so make sure your function does before submitting.\n"
          ]
        }
      ],
      "source": [
        "true_results = [\"VinciTorio's Restaurant\"]\n",
        "\n",
        "try:\n",
        "    FindBusinessBasedOnLocation(['Buffets'], [33.3482589, -111.9088346], 10, 'output_loc.txt', data)\n",
        "except NameError as e: \n",
        "    print ('The FindBusinessBasedOnLocation function is not defined! You must run the cell containing the function before running this evaluation cell.')\n",
        "except TypeError as e:\n",
        "    print (\"The FindBusinessBasedOnLocation function is supposed to accept five arguments. Yours does not!\")\n",
        "    \n",
        "try:\n",
        "    opf = open('output_loc.txt','r')\n",
        "except FileNotFoundError as e:\n",
        "    print (\"The FindBusinessBasedOnLocation function does not write data to the correct location.\")\n",
        "\n",
        "lines = opf.readlines()\n",
        "if len(lines) != 1:\n",
        "    print (\"The FindBusinessBasedOnLocation function does not find the correct number of results, should be only 1.\")\n",
        "\n",
        "if lines[0].strip() == true_results[0]:\n",
        "    print (\"Correct! Your FindBusinessBasedOnLocation function passes these test cases. This does not cover all possible edge cases, so make sure your function does before submitting.\")"
      ]
    },
    {
      "cell_type": "code",
      "execution_count": null,
      "metadata": {
        "id": "AFKWz8ZYbHxw"
      },
      "outputs": [],
      "source": []
    }
  ],
  "metadata": {
    "kernelspec": {
      "display_name": "Python 3",
      "language": "python",
      "name": "python3"
    },
    "language_info": {
      "codemirror_mode": {
        "name": "ipython",
        "version": 3
      },
      "file_extension": ".py",
      "mimetype": "text/x-python",
      "name": "python",
      "nbconvert_exporter": "python",
      "pygments_lexer": "ipython3",
      "version": "3.7.6"
    },
    "colab": {
      "provenance": [],
      "include_colab_link": true
    }
  },
  "nbformat": 4,
  "nbformat_minor": 0
}