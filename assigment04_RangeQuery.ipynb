{
  "nbformat": 4,
  "nbformat_minor": 0,
  "metadata": {
    "colab": {
      "provenance": [],
      "authorship_tag": "ABX9TyPwkS+3T2QpWjSwBm08/jtK",
      "include_colab_link": true
    },
    "kernelspec": {
      "name": "python3",
      "display_name": "Python 3"
    },
    "language_info": {
      "name": "python"
    }
  },
  "cells": [
    {
      "cell_type": "markdown",
      "metadata": {
        "id": "view-in-github",
        "colab_type": "text"
      },
      "source": [
        "<a href=\"https://colab.research.google.com/github/jhuarancca/ASU_DataProcessing/blob/main/assigment04_RangeQuery.ipynb\" target=\"_parent\"><img src=\"https://colab.research.google.com/assets/colab-badge.svg\" alt=\"Open In Colab\"/></a>"
      ]
    },
    {
      "cell_type": "code",
      "execution_count": 1,
      "metadata": {
        "id": "4o_PB_zIiJP_"
      },
      "outputs": [],
      "source": [
        "#!/usr/bin/python3\n",
        "#\n",
        "# Assignment2 Interface\n",
        "#\n",
        "\n",
        "import psycopg2\n",
        "import os\n",
        "import sys\n",
        "# Donot close the connection inside this file i.e. do not perform openconnection.close()\n",
        "def RangeQuery(ratingsTableName, ratingMinValue, ratingMaxValue, openconnection):\n",
        "    pass\n",
        "\n",
        "\n",
        "\n",
        "def PointQuery(ratingsTableName, ratingValue, openconnection):\n",
        "    pass\n",
        "\n",
        "\n",
        "def writeToFile(filename, rows):\n",
        "    f = open(filename, 'w')\n",
        "    for line in rows:\n",
        "        f.write(','.join(str(s) for s in line))\n",
        "        f.write('\\n')\n",
        "    f.close()\n"
      ]
    }
  ]
}